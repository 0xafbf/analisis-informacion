{
 "cells": [
  {
   "cell_type": "code",
   "execution_count": 1,
   "metadata": {
    "collapsed": true
   },
   "outputs": [],
   "source": [
    "%matplotlib notebook\n",
    "\n",
    "import numpy as np\n",
    "import matplotlib.pyplot as plt\n",
    "from numpy import linalg"
   ]
  },
  {
   "cell_type": "code",
   "execution_count": 16,
   "metadata": {},
   "outputs": [
    {
     "ename": "AttributeError",
     "evalue": "module 'numpy' has no attribute 'heaviside'",
     "output_type": "error",
     "traceback": [
      "\u001b[1;31m---------------------------------------------------------------------------\u001b[0m",
      "\u001b[1;31mAttributeError\u001b[0m                            Traceback (most recent call last)",
      "\u001b[1;32m<ipython-input-16-aaa9f9e53b15>\u001b[0m in \u001b[0;36m<module>\u001b[1;34m()\u001b[0m\n\u001b[0;32m     12\u001b[0m \u001b[0mfreq_fft\u001b[0m \u001b[1;33m=\u001b[0m \u001b[0mnp\u001b[0m\u001b[1;33m.\u001b[0m\u001b[0mfft\u001b[0m\u001b[1;33m.\u001b[0m\u001b[0mrfftfreq\u001b[0m\u001b[1;33m(\u001b[0m\u001b[0macc_norm\u001b[0m\u001b[1;33m.\u001b[0m\u001b[0msize\u001b[0m\u001b[1;33m,\u001b[0m \u001b[0md\u001b[0m\u001b[1;33m=\u001b[0m\u001b[1;36m1.\u001b[0m\u001b[1;33m/\u001b[0m\u001b[0msample_rate\u001b[0m\u001b[1;33m)\u001b[0m\u001b[1;33m\u001b[0m\u001b[0m\n\u001b[0;32m     13\u001b[0m \u001b[1;33m\u001b[0m\u001b[0m\n\u001b[1;32m---> 14\u001b[1;33m \u001b[0macc_fft\u001b[0m \u001b[1;33m=\u001b[0m \u001b[0macc_fft\u001b[0m \u001b[1;33m*\u001b[0m \u001b[0mnp\u001b[0m\u001b[1;33m.\u001b[0m\u001b[0mheaviside\u001b[0m\u001b[1;33m(\u001b[0m\u001b[0mfreq_fft\u001b[0m \u001b[1;33m-\u001b[0m \u001b[1;36m10\u001b[0m\u001b[1;33m,\u001b[0m \u001b[1;36m1\u001b[0m\u001b[1;33m)\u001b[0m\u001b[1;33m\u001b[0m\u001b[0m\n\u001b[0m\u001b[0;32m     15\u001b[0m \u001b[1;33m\u001b[0m\u001b[0m\n\u001b[0;32m     16\u001b[0m \u001b[0mplt\u001b[0m\u001b[1;33m.\u001b[0m\u001b[0mfigure\u001b[0m\u001b[1;33m(\u001b[0m\u001b[1;33m)\u001b[0m\u001b[1;33m\u001b[0m\u001b[0m\n",
      "\u001b[1;31mAttributeError\u001b[0m: module 'numpy' has no attribute 'heaviside'"
     ]
    }
   ],
   "source": [
    "csv = np.genfromtxt('datos.csv', delimiter=',')\n",
    "acc = csv[1:]\n",
    "\n",
    "# datos_mag = linalg.norm(acc, axis=1)\n",
    "acc_norm = acc[:, 2]-9.8\n",
    "acc_norm = acc_norm[1560:2400]\n",
    "#print(acc_norm)\n",
    "\n",
    "sample_rate = 60\n",
    "\n",
    "acc_fft = np.fft.rfft(acc_norm)\n",
    "freq_fft = np.fft.rfftfreq(acc_norm.size, d=1./sample_rate)\n",
    "\n",
    "acc_fft = acc_fft * np.heaviside(freq_fft - 10, 1)\n",
    "\n",
    "plt.figure()\n",
    "plt.plot(acc_norm)\n",
    "\n",
    "plt.figure()\n",
    "plt.plot(freq_fft, np.absolute(acc_fft))\n",
    "\n",
    "\n",
    "\n",
    "# plt.figure()\n",
    "# plt.plot(datos[:,0])\n",
    "# plt.plot(datos[:,1])\n",
    "# plt.plot(datos[:,2])\n",
    "# plt.figure()\n",
    "# plt.plot(datos_mag)\n",
    "\n",
    "# vel_x = np.cumsum(acc[:,0])\n",
    "# vel_y = np.cumsum(acc[:,1])\n",
    "# vel_z = np.cumsum(acc[:,2]-9.8)\n",
    "\n"
   ]
  },
  {
   "cell_type": "code",
   "execution_count": 15,
   "metadata": {},
   "outputs": [
    {
     "data": {
      "text/plain": [
       "'1.12.1'"
      ]
     },
     "execution_count": 15,
     "metadata": {},
     "output_type": "execute_result"
    }
   ],
   "source": []
  },
  {
   "cell_type": "code",
   "execution_count": null,
   "metadata": {
    "collapsed": true
   },
   "outputs": [],
   "source": []
  }
 ],
 "metadata": {
  "kernelspec": {
   "display_name": "Python 3",
   "language": "python",
   "name": "python3"
  },
  "language_info": {
   "codemirror_mode": {
    "name": "ipython",
    "version": 3
   },
   "file_extension": ".py",
   "mimetype": "text/x-python",
   "name": "python",
   "nbconvert_exporter": "python",
   "pygments_lexer": "ipython3",
   "version": "3.6.1"
  }
 },
 "nbformat": 4,
 "nbformat_minor": 2
}
