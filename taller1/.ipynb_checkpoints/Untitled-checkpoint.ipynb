{
 "cells": [
  {
   "cell_type": "code",
   "execution_count": 1,
   "metadata": {
    "collapsed": true
   },
   "outputs": [],
   "source": [
    "%matplotlib inline\n",
    "import matplotlib.pyplot as plt\n",
    "import numpy as np\n",
    "import scipy.io\n",
    "\n",
    "# Graphing helper function\n",
    "def setup_graph(title='', x_label='', y_label='', fig_size=None):\n",
    "    fig = plt.figure()\n",
    "    if fig_size != None:\n",
    "        fig.set_size_inches(fig_size[0], fig_size[1])\n",
    "    ax = fig.add_subplot(111)\n",
    "    ax.set_title(title)\n",
    "    ax.set_xlabel(x_label)\n",
    "    ax.set_ylabel(y_label)\n"
   ]
  },
  {
   "cell_type": "code",
   "execution_count": 2,
   "metadata": {},
   "outputs": [],
   "source": [
    "\n",
    "data = scipy.io.loadmat(\"hs_gear_1_fault/case1_1.mat\")\n",
    "\n",
    "teeth = data[\"teeth\"]\n",
    "periods_per_revolution = data[\"ppr\"]\n",
    "sample_rate = data[\"sr\"]\n"
   ]
  },
  {
   "cell_type": "code",
   "execution_count": 3,
   "metadata": {},
   "outputs": [
    {
     "data": {
      "text/plain": [
       "[<matplotlib.lines.Line2D at 0x115bc4ef0>]"
      ]
     },
     "execution_count": 3,
     "metadata": {},
     "output_type": "execute_result"
    },
    {
     "data": {
      "image/png": "[encoded data removed]",
      "text/plain": [
       "<matplotlib.figure.Figure at 0x10ac3e748>"
      ]
     },
     "metadata": {},
     "output_type": "display_data"
    },
    {
     "data": {
      "image/png": "[encoded data removed]",
      "text/plain": [
       "<matplotlib.figure.Figure at 0x1129c3780>"
      ]
     },
     "metadata": {},
     "output_type": "display_data"
    }
   ],
   "source": [
    "\n",
    "# setup_graph(x_label='time (in seconds)', y_label='amplitude', title='time domain')\n",
    "\n",
    "accelerometer_gs = data[\"gs\"]\n",
    "tach = data[\"tach\"]\n",
    "\n",
    "acceleration_m_s2 = (accelerometer_gs-0.565) * 9.8\n",
    "#acceleration_m_s2 = (accelerometer_gs-1) * 9.8\n",
    "\n",
    "velocity = np.cumsum(acceleration_m_s2)\n",
    "\n",
    "location = np.cumsum(velocity)\n",
    "\n",
    "\n",
    "\n",
    "fft_input = location\n",
    "fft = np.fft.rfft(fft_input)\n",
    "\n",
    "\n",
    "plt.figure()\n",
    "plt.plot(fft_input)\n",
    "\n",
    "plt.figure()\n",
    "plt.plot(np.absolute(fft)[:100])"
   ]
  },
  {
   "cell_type": "code",
   "execution_count": null,
   "metadata": {
    "collapsed": true
   },
   "outputs": [],
   "source": []
  }
 ],
 "metadata": {
  "kernelspec": {
   "display_name": "Python 3",
   "language": "python",
   "name": "python3"
  },
  "language_info": {
   "codemirror_mode": {
    "name": "ipython",
    "version": 3
   },
   "file_extension": ".py",
   "mimetype": "text/x-python",
   "name": "python",
   "nbconvert_exporter": "python",
   "pygments_lexer": "ipython3",
   "version": "3.6.1"
  }
 },
 "nbformat": 4,
 "nbformat_minor": 2
}
